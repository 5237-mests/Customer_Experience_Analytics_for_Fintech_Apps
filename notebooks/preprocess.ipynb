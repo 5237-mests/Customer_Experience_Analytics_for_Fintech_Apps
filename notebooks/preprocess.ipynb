{
  "nbformat": 4,
  "nbformat_minor": 0,
  "metadata": {
    "colab": {
      "provenance": [],
      "authorship_tag": "ABX9TyOh0Rwa6zx0ILxGiF+cIbZi",
      "include_colab_link": true
    },
    "kernelspec": {
      "name": "python3",
      "display_name": "Python 3"
    },
    "language_info": {
      "name": "python"
    }
  },
  "cells": [
    {
      "cell_type": "markdown",
      "metadata": {
        "id": "view-in-github",
        "colab_type": "text"
      },
      "source": [
        "<a href=\"https://colab.research.google.com/github/5237-mests/Customer_Experience_Analytics_for_Fintech_Apps/blob/task-1/notebooks/preprocess.ipynb\" target=\"_parent\"><img src=\"https://colab.research.google.com/assets/colab-badge.svg\" alt=\"Open In Colab\"/></a>"
      ]
    },
    {
      "cell_type": "code",
      "execution_count": 1,
      "metadata": {
        "colab": {
          "base_uri": "https://localhost:8080/"
        },
        "id": "y80KnedkbxRW",
        "outputId": "acfe038e-cb2d-4dce-c7ad-f24dc67d823f"
      },
      "outputs": [
        {
          "output_type": "stream",
          "name": "stdout",
          "text": [
            "7\n"
          ]
        }
      ],
      "source": [
        "print(7)"
      ]
    },
    {
      "cell_type": "markdown",
      "source": [
        "# Preprocessing"
      ],
      "metadata": {
        "id": "3HAOXWzVdQ3Q"
      }
    },
    {
      "cell_type": "markdown",
      "source": [
        "#### Clean CBE raw data"
      ],
      "metadata": {
        "id": "gyKbGtNrdZhV"
      }
    },
    {
      "cell_type": "code",
      "source": [
        "import pandas as pd\n",
        "\n",
        "# Load cbe raw reviews from csv\n",
        "cbe_df = pd.read_csv(\"raw_cbe_bank_reviews.csv\")\n",
        "\n",
        "cbe_df.tail()"
      ],
      "metadata": {
        "id": "_lHZLSDmdeUi"
      },
      "execution_count": null,
      "outputs": []
    }
  ]
}