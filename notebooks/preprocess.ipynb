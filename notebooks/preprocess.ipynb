{
  "cells": [
    {
      "cell_type": "markdown",
      "metadata": {
        "colab_type": "text",
        "id": "view-in-github"
      },
      "source": [
        "<a href=\"https://colab.research.google.com/github/5237-mests/Customer_Experience_Analytics_for_Fintech_Apps/blob/task-1/notebooks/preprocess.ipynb\" target=\"_parent\"><img src=\"https://colab.research.google.com/assets/colab-badge.svg\" alt=\"Open In Colab\"/></a>"
      ]
    },
    {
      "cell_type": "markdown",
      "metadata": {
        "id": "3HAOXWzVdQ3Q"
      },
      "source": [
        "# Preprocessing"
      ]
    },
    {
      "cell_type": "markdown",
      "metadata": {
        "id": "gyKbGtNrdZhV"
      },
      "source": [
        "#### Clean Dashen raw data"
      ]
    },
    {
      "cell_type": "code",
      "execution_count": 4,
      "metadata": {
        "id": "_lHZLSDmdeUi"
      },
      "outputs": [
        {
          "data": {
            "text/html": [
              "<div>\n",
              "<style scoped>\n",
              "    .dataframe tbody tr th:only-of-type {\n",
              "        vertical-align: middle;\n",
              "    }\n",
              "\n",
              "    .dataframe tbody tr th {\n",
              "        vertical-align: top;\n",
              "    }\n",
              "\n",
              "    .dataframe thead th {\n",
              "        text-align: right;\n",
              "    }\n",
              "</style>\n",
              "<table border=\"1\" class=\"dataframe\">\n",
              "  <thead>\n",
              "    <tr style=\"text-align: right;\">\n",
              "      <th></th>\n",
              "      <th>review</th>\n",
              "      <th>rating</th>\n",
              "      <th>date</th>\n",
              "      <th>bank</th>\n",
              "      <th>source</th>\n",
              "    </tr>\n",
              "  </thead>\n",
              "  <tbody>\n",
              "    <tr>\n",
              "      <th>443</th>\n",
              "      <td>Best</td>\n",
              "      <td>5</td>\n",
              "      <td>2025-01-13</td>\n",
              "      <td>Dashen Bank</td>\n",
              "      <td>Google Play</td>\n",
              "    </tr>\n",
              "    <tr>\n",
              "      <th>444</th>\n",
              "      <td>Waw Great and innovated,user friendly, always ...</td>\n",
              "      <td>5</td>\n",
              "      <td>2025-01-13</td>\n",
              "      <td>Dashen Bank</td>\n",
              "      <td>Google Play</td>\n",
              "    </tr>\n",
              "    <tr>\n",
              "      <th>445</th>\n",
              "      <td>It's Best waww 🙏</td>\n",
              "      <td>5</td>\n",
              "      <td>2025-01-13</td>\n",
              "      <td>Dashen Bank</td>\n",
              "      <td>Google Play</td>\n",
              "    </tr>\n",
              "    <tr>\n",
              "      <th>446</th>\n",
              "      <td>Always one step ahead</td>\n",
              "      <td>5</td>\n",
              "      <td>2025-01-13</td>\n",
              "      <td>Dashen Bank</td>\n",
              "      <td>Google Play</td>\n",
              "    </tr>\n",
              "    <tr>\n",
              "      <th>447</th>\n",
              "      <td>Like Me, I Hope It Works Better Than Before.</td>\n",
              "      <td>5</td>\n",
              "      <td>2025-01-11</td>\n",
              "      <td>Dashen Bank</td>\n",
              "      <td>Google Play</td>\n",
              "    </tr>\n",
              "  </tbody>\n",
              "</table>\n",
              "</div>"
            ],
            "text/plain": [
              "                                                review  rating        date  \\\n",
              "443                                               Best       5  2025-01-13   \n",
              "444  Waw Great and innovated,user friendly, always ...       5  2025-01-13   \n",
              "445                                   It's Best waww 🙏       5  2025-01-13   \n",
              "446                              Always one step ahead       5  2025-01-13   \n",
              "447       Like Me, I Hope It Works Better Than Before.       5  2025-01-11   \n",
              "\n",
              "            bank       source  \n",
              "443  Dashen Bank  Google Play  \n",
              "444  Dashen Bank  Google Play  \n",
              "445  Dashen Bank  Google Play  \n",
              "446  Dashen Bank  Google Play  \n",
              "447  Dashen Bank  Google Play  "
            ]
          },
          "execution_count": 4,
          "metadata": {},
          "output_type": "execute_result"
        }
      ],
      "source": [
        "import pandas as pd\n",
        "\n",
        "# Load dashen raw reviews from csv\n",
        "dashen_df = pd.read_csv(\"../data/raw_dashen_bank_reviews.csv\")\n",
        "\n",
        "dashen_df.tail()"
      ]
    },
    {
      "cell_type": "code",
      "execution_count": 5,
      "metadata": {},
      "outputs": [
        {
          "data": {
            "text/plain": [
              "np.int64(1)"
            ]
          },
          "execution_count": 5,
          "metadata": {},
          "output_type": "execute_result"
        }
      ],
      "source": [
        "# check dublicates\n",
        "dashen_df.duplicated().sum()"
      ]
    },
    {
      "cell_type": "code",
      "execution_count": null,
      "metadata": {},
      "outputs": [],
      "source": [
        "# Drop duplicates\n",
        "dashen_df.drop_duplicates(subset=[\"review\", \"bank\"], inplace=True)"
      ]
    },
    {
      "cell_type": "code",
      "execution_count": 6,
      "metadata": {},
      "outputs": [],
      "source": [
        "# Drop empty reviews\n",
        "dashen_df.dropna(subset=[\"review\", \"rating\", \"date\"], inplace=True)"
      ]
    },
    {
      "cell_type": "code",
      "execution_count": 7,
      "metadata": {},
      "outputs": [],
      "source": [
        "# Format date to YYYY-MM-DD\n",
        "dashen_df['date'] = pd.to_datetime(dashen_df['date']).dt.strftime('%Y-%m-%d')"
      ]
    },
    {
      "cell_type": "code",
      "execution_count": 9,
      "metadata": {},
      "outputs": [
        {
          "name": "stdout",
          "output_type": "stream",
          "text": [
            "✅ Final dataset shape: (448, 5)\n"
          ]
        }
      ],
      "source": [
        "# Final structure\n",
        "dashen_df = dashen_df[[\"review\", \"rating\", \"date\", \"bank\", \"source\"]]\n",
        "\n",
        "# Save cleaned version\n",
        "dashen_df.to_csv(\"../data/cleaned_dashen_bank_reviews.csv\", index=False)\n",
        "\n",
        "print(f\"✅ Final dataset shape: {dashen_df.shape}\")"
      ]
    },
    {
      "cell_type": "markdown",
      "metadata": {},
      "source": [
        "#### Clean BOA review data"
      ]
    },
    {
      "cell_type": "code",
      "execution_count": null,
      "metadata": {},
      "outputs": [],
      "source": [
        "# load boa csv file\n",
        "boa_df = pd.read_csv(\"../data/raw_boa_bank_reviews.csv\")"
      ]
    },
    {
      "cell_type": "code",
      "execution_count": null,
      "metadata": {},
      "outputs": [],
      "source": [
        "boa_df.tail()"
      ]
    },
    {
      "cell_type": "code",
      "execution_count": null,
      "metadata": {},
      "outputs": [],
      "source": [
        "# check dublicates\n",
        "dashen_df.duplicated().sum()"
      ]
    },
    {
      "cell_type": "code",
      "execution_count": null,
      "metadata": {},
      "outputs": [],
      "source": [
        "# Drop empty reviews\n",
        "boa_df.dropna(subset=[\"review\", \"rating\", \"date\"], inplace=True)"
      ]
    },
    {
      "cell_type": "code",
      "execution_count": null,
      "metadata": {},
      "outputs": [],
      "source": [
        "# Format date to YYYY-MM-DD\n",
        "boa_df['date'] = pd.to_datetime(boa_df['date']).dt.strftime('%Y-%m-%d')"
      ]
    },
    {
      "cell_type": "code",
      "execution_count": null,
      "metadata": {},
      "outputs": [],
      "source": [
        "# Final structure\n",
        "boa_df = boa_df[[\"review\", \"rating\", \"date\", \"bank\", \"source\"]]\n",
        "\n",
        "# Save cleaned version\n",
        "boa_df.to_csv(\"cleaned_boa_bank_reviews.csv\", index=False)\n",
        "\n",
        "print(f\"✅ Final dataset shape: {boa_df.shape}\")"
      ]
    },
    {
      "cell_type": "markdown",
      "metadata": {},
      "source": [
        "#### Clean cbe review data"
      ]
    },
    {
      "cell_type": "code",
      "execution_count": null,
      "metadata": {},
      "outputs": [],
      "source": [
        "# Load cbe raw reviews from csv\n",
        "cbe_df = pd.read_csv(\"../data/raw_cbe_bank_reviews.csv\")\n",
        "\n",
        "cbe_df.tail()"
      ]
    },
    {
      "cell_type": "code",
      "execution_count": null,
      "metadata": {},
      "outputs": [],
      "source": [
        "# check dublicates\n",
        "cbe_df.duplicated().sum()"
      ]
    },
    {
      "cell_type": "code",
      "execution_count": null,
      "metadata": {},
      "outputs": [],
      "source": [
        "# Drop duplicates\n",
        "cbe_df.drop_duplicates(subset=[\"review\", \"bank\"], inplace=True)"
      ]
    },
    {
      "cell_type": "code",
      "execution_count": null,
      "metadata": {},
      "outputs": [],
      "source": [
        "# Drop empty reviews\n",
        "cbe_df.dropna(subset=[\"review\", \"rating\", \"date\"], inplace=True)"
      ]
    },
    {
      "cell_type": "code",
      "execution_count": null,
      "metadata": {},
      "outputs": [],
      "source": [
        "# Format date to YYYY-MM-DD (already done in scraping)\n",
        "cbe_df['date'] = pd.to_datetime(cbe_df['date']).dt.strftime('%Y-%m-%d')"
      ]
    },
    {
      "cell_type": "code",
      "execution_count": null,
      "metadata": {},
      "outputs": [],
      "source": [
        "# Final structure\n",
        "cbe_df = cbe_df[[\"review\", \"rating\", \"date\", \"bank\", \"source\"]]\n",
        "\n",
        "# Save cleaned version\n",
        "cbe_df.to_csv(\"cleaned_cbe_bank_reviews.csv\", index=False)\n",
        "\n",
        "print(f\"✅ Final dataset shape: {cbe_df.shape}\")"
      ]
    }
  ],
  "metadata": {
    "colab": {
      "authorship_tag": "ABX9TyOh0Rwa6zx0ILxGiF+cIbZi",
      "include_colab_link": true,
      "provenance": []
    },
    "kernelspec": {
      "display_name": "week2",
      "language": "python",
      "name": "python3"
    },
    "language_info": {
      "codemirror_mode": {
        "name": "ipython",
        "version": 3
      },
      "file_extension": ".py",
      "mimetype": "text/x-python",
      "name": "python",
      "nbconvert_exporter": "python",
      "pygments_lexer": "ipython3",
      "version": "3.13.2"
    }
  },
  "nbformat": 4,
  "nbformat_minor": 0
}
